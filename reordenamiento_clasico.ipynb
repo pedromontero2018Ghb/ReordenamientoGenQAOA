{
  "nbformat": 4,
  "nbformat_minor": 0,
  "metadata": {
    "colab": {
      "provenance": [],
      "authorship_tag": "ABX9TyN/Ztt1aHR11B8HiDMSkWGC",
      "include_colab_link": true
    },
    "kernelspec": {
      "name": "python3",
      "display_name": "Python 3"
    },
    "language_info": {
      "name": "python"
    }
  },
  "cells": [
    {
      "cell_type": "markdown",
      "metadata": {
        "id": "view-in-github",
        "colab_type": "text"
      },
      "source": [
        "<a href=\"https://colab.research.google.com/github/pedromontero2018Ghb/ReordenamientoGenQAOA/blob/main/reordenamiento_clasico.ipynb\" target=\"_parent\"><img src=\"https://colab.research.google.com/assets/colab-badge.svg\" alt=\"Open In Colab\"/></a>"
      ]
    },
    {
      "cell_type": "code",
      "execution_count": 21,
      "metadata": {
        "colab": {
          "base_uri": "https://localhost:8080/"
        },
        "id": "EW8AjiXfozTN",
        "outputId": "5f5bb068-a001-4fcd-c19f-93944efc5226"
      },
      "outputs": [
        {
          "output_type": "stream",
          "name": "stdout",
          "text": [
            "Permutación inicial: [7, 4, 0, 5, 6, 3, 1, 2]\n",
            "Con centinelas: [0, 8, 5, 1, 6, 7, 4, 2, 3, 9]\n",
            "Breakpoints iniciales: 7\n",
            "\n",
            "Inversión aplicada: (1, 4)\n",
            "Permutación actual: [7, 6, 5, 0, 4, 3, 1, 2]\n",
            "Breakpoints: 5\n",
            "\n",
            "Inversión aplicada: (0, 3)\n",
            "Permutación actual: [0, 5, 6, 7, 4, 3, 1, 2]\n",
            "Breakpoints: 4\n",
            "\n",
            "Inversión aplicada: (1, 3)\n",
            "Permutación actual: [0, 7, 6, 5, 4, 3, 1, 2]\n",
            "Breakpoints: 3\n",
            "\n",
            "Inversión aplicada: (1, 7)\n",
            "Permutación actual: [0, 2, 1, 3, 4, 5, 6, 7]\n",
            "Breakpoints: 2\n",
            "\n",
            "Inversión aplicada: (1, 2)\n",
            "Permutación actual: [0, 1, 2, 3, 4, 5, 6, 7]\n",
            "Breakpoints: 0\n",
            "\n",
            "¡Ordenado con éxito!\n",
            "Permutación final: [0, 1, 2, 3, 4, 5, 6, 7]\n",
            "Secuencia de inversiones: [(1, 4), (0, 3), (1, 3), (1, 7), (1, 2)]\n",
            "Número de pasos: 5\n"
          ]
        }
      ],
      "source": [
        "def int_centinelas(perm):\n",
        "    n = len(perm)\n",
        "    return [0] + [p+1 for p in perm] + [n+1]\n",
        "\n",
        "def breakpoints(perm):\n",
        "    return sum(abs(perm[i] - perm[i+1]) != 1 for i in range(len(perm)-1))\n",
        "\n",
        "def aplica_reversion(perm, i, j):\n",
        "    nueva = perm[:]\n",
        "    nueva[i:j+1] = reversed(nueva[i:j+1])\n",
        "    return nueva\n",
        "\n",
        "def greedy_sorting_by_reversals(perm):\n",
        "    n = len(perm)\n",
        "    actual = int_centinelas(perm)\n",
        "    history = []\n",
        "\n",
        "    print(f\"Permutación inicial: {perm}\")\n",
        "    print(f\"Con centinelas: {actual}\")\n",
        "    print(f\"Breakpoints iniciales: {breakpoints(actual)}\\n\")\n",
        "\n",
        "    while breakpoints(actual) > 0:\n",
        "        best_perm = None\n",
        "        best_bp = float(\"inf\")\n",
        "        best_rev = None\n",
        "\n",
        "        for i in range(1, n+1):\n",
        "            for j in range(i+1, n+1):\n",
        "                nueva = aplica_reversion(actual, i, j)\n",
        "                bp = breakpoints(nueva)\n",
        "                if bp < best_bp:\n",
        "                    best_bp = bp\n",
        "                    best_perm = nueva\n",
        "                    best_rev = (i-1, j-1)  # índices base 0\n",
        "\n",
        "        actual = best_perm\n",
        "        history.append(best_rev)\n",
        "\n",
        "        print(f\"Inversión aplicada: {best_rev}\")\n",
        "        print(f\"Permutación actual: {[x-1 for x in actual[1:-1]]}\")\n",
        "        print(f\"Breakpoints: {breakpoints(actual)}\\n\")\n",
        "\n",
        "    print(\"¡Ordenado con éxito!\")\n",
        "    return [x-1 for x in actual[1:-1]], history\n",
        "\n",
        "perm =[7, 4, 0, 5, 6, 3, 1, 2] # ejemplo clásico\n",
        "final, history = greedy_sorting_by_reversals(perm)\n",
        "\n",
        "print(\"Permutación final:\", final)\n",
        "print(\"Secuencia de inversiones:\", history)\n",
        "print(\"Número de pasos:\", len(history))"
      ]
    }
  ]
}